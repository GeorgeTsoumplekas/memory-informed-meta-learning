{
 "cells": [
  {
   "cell_type": "code",
   "execution_count": 1,
   "metadata": {},
   "outputs": [],
   "source": [
    "import torch\n",
    "import torch.nn as nn"
   ]
  },
  {
   "cell_type": "code",
   "execution_count": 11,
   "metadata": {},
   "outputs": [
    {
     "data": {
      "text/plain": [
       "tensor([[-7.0276e+28,  3.3498e-41, -5.2798e+28],\n",
       "        [ 3.3498e-41,  0.0000e+00,  0.0000e+00],\n",
       "        [ 0.0000e+00,  0.0000e+00,  7.0065e-45],\n",
       "        [ 0.0000e+00,  1.4013e-45,  0.0000e+00],\n",
       "        [ 0.0000e+00,  0.0000e+00,  6.8664e-44]])"
      ]
     },
     "execution_count": 11,
     "metadata": {},
     "output_type": "execute_result"
    }
   ],
   "source": [
    "w = torch.empty(5, 3)\n",
    "w"
   ]
  },
  {
   "cell_type": "code",
   "execution_count": 12,
   "metadata": {},
   "outputs": [
    {
     "data": {
      "text/plain": [
       "tensor([[-0.1489,  0.2952, -0.1996],\n",
       "        [-0.4786, -0.5457,  0.3294],\n",
       "        [-0.5935, -0.1684, -0.7417],\n",
       "        [-0.1611, -0.4290,  0.3548],\n",
       "        [-0.6087,  0.6346,  0.4191]])"
      ]
     },
     "execution_count": 12,
     "metadata": {},
     "output_type": "execute_result"
    }
   ],
   "source": [
    "nn.init.orthogonal_(w)\n",
    "w"
   ]
  },
  {
   "cell_type": "code",
   "execution_count": 13,
   "metadata": {},
   "outputs": [
    {
     "data": {
      "text/plain": [
       "torch.Size([5, 3])"
      ]
     },
     "execution_count": 13,
     "metadata": {},
     "output_type": "execute_result"
    }
   ],
   "source": [
    "w.shape"
   ]
  },
  {
   "cell_type": "code",
   "execution_count": 14,
   "metadata": {},
   "outputs": [
    {
     "name": "stdout",
     "output_type": "stream",
     "text": [
      "Dot products between columns:\n",
      "tensor([[ 1.0000e+00, -5.3484e-08,  1.7945e-08],\n",
      "        [-5.3484e-08,  1.0000e+00, -2.4658e-08],\n",
      "        [ 1.7945e-08, -2.4658e-08,  1.0000e+00]])\n",
      "\n",
      "Columns are orthogonal: True\n"
     ]
    }
   ],
   "source": [
    "# Compute dot products between all pairs of columns\n",
    "# For orthogonal columns, we want w_t @ w to be identity matrix\n",
    "w_t = w.t()\n",
    "dot_products = torch.mm(w_t, w)  # (5x3) @ (3x5) -> (5x5)\n",
    "\n",
    "# The diagonal should be ~1 (vector norms) and off-diagonal elements should be ~0\n",
    "print(\"Dot products between columns:\")\n",
    "print(dot_products)\n",
    "\n",
    "# Verify orthogonality - off-diagonal elements should be close to 0\n",
    "is_orthogonal = torch.allclose(dot_products, torch.eye(w.size(1)), atol=1e-6)\n",
    "print(\"\\nColumns are orthogonal:\", is_orthogonal)"
   ]
  },
  {
   "cell_type": "code",
   "execution_count": null,
   "metadata": {},
   "outputs": [],
   "source": []
  }
 ],
 "metadata": {
  "kernelspec": {
   "display_name": ".venv",
   "language": "python",
   "name": "python3"
  },
  "language_info": {
   "codemirror_mode": {
    "name": "ipython",
    "version": 3
   },
   "file_extension": ".py",
   "mimetype": "text/x-python",
   "name": "python",
   "nbconvert_exporter": "python",
   "pygments_lexer": "ipython3",
   "version": "3.10.12"
  }
 },
 "nbformat": 4,
 "nbformat_minor": 2
}
